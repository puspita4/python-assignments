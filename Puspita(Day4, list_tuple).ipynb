{
 "cells": [
  {
   "cell_type": "code",
   "execution_count": 1,
   "id": "83cf9996",
   "metadata": {},
   "outputs": [
    {
     "name": "stdout",
     "output_type": "stream",
     "text": [
      "['sucharita', 'puspita', 'rijwana']\n"
     ]
    }
   ],
   "source": [
    "# 1.Create a list and fetch all from the list and print these values.\n",
    "supuri = [\"sucharita\",\"puspita\",\"rijwana\"]\n",
    "print(supuri)"
   ]
  },
  {
   "cell_type": "code",
   "execution_count": 2,
   "id": "8cfbc6b3",
   "metadata": {},
   "outputs": [
    {
     "name": "stdout",
     "output_type": "stream",
     "text": [
      "3\n"
     ]
    }
   ],
   "source": [
    "# 2. Write a python program to print the length of a list.\n",
    "supuri = [\"sucharita\",\"puspita\",\"rijwana\"]\n",
    "print(len(supuri))"
   ]
  },
  {
   "cell_type": "code",
   "execution_count": 24,
   "id": "9033f213",
   "metadata": {},
   "outputs": [
    {
     "name": "stdout",
     "output_type": "stream",
     "text": [
      "Item is present in this list\n"
     ]
    }
   ],
   "source": [
    "# 3.Write a python program to check if an element is present or not in the list.If present print “Item is present in this list”\n",
    "# or print “Item is not present in this list”.\n",
    "supuri = [\"sucharita\", \"puspita\", \"rijwana\"]\n",
    "if \"puspita\" in supuri:\n",
    "    print(\"Item is present in this list\")\n",
    "else:\n",
    "    print(\"Item is not present in this list\")"
   ]
  },
  {
   "cell_type": "code",
   "execution_count": 7,
   "id": "c25d7442",
   "metadata": {},
   "outputs": [
    {
     "name": "stdout",
     "output_type": "stream",
     "text": [
      "['sucharita', 'rijwana']\n"
     ]
    }
   ],
   "source": [
    "# 4.Different way to clear a list.\n",
    "supuri = [\"sucharita\", \"puspita\", \"rijwana\"]\n",
    "supuri.remove(\"puspita\")\n",
    "print(supuri)"
   ]
  },
  {
   "cell_type": "code",
   "execution_count": 9,
   "id": "4665a321",
   "metadata": {},
   "outputs": [
    {
     "name": "stdout",
     "output_type": "stream",
     "text": [
      "['sucharita', 'puspita', 'subhadip']\n"
     ]
    }
   ],
   "source": [
    "supuri = [\"sucharita\", \"puspita\", \"rijwana\", \"subhadip\"]\n",
    "supuri.pop(2)     # remove the second item using this function\n",
    "print(supuri)"
   ]
  },
  {
   "cell_type": "code",
   "execution_count": 10,
   "id": "053ef5c4",
   "metadata": {},
   "outputs": [
    {
     "name": "stdout",
     "output_type": "stream",
     "text": [
      "['sucharita', 'puspita', 'rijwana']\n"
     ]
    }
   ],
   "source": [
    "supuri = [\"sucharita\", \"puspita\", \"rijwana\", \"subhadip\"]\n",
    "supuri.pop()     # clear the last item\n",
    "print(supuri)\n"
   ]
  },
  {
   "cell_type": "code",
   "execution_count": 11,
   "id": "18f35527",
   "metadata": {},
   "outputs": [
    {
     "name": "stdout",
     "output_type": "stream",
     "text": [
      "['puspita', 'rijwana', 'subhadip']\n"
     ]
    }
   ],
   "source": [
    "supuri = [\"sucharita\", \"puspita\", \"rijwana\", \"subhadip\"]\n",
    "supuri.pop(0)     # clear the first item\n",
    "print(supuri)"
   ]
  },
  {
   "cell_type": "code",
   "execution_count": 13,
   "id": "6516a30f",
   "metadata": {},
   "outputs": [
    {
     "ename": "NameError",
     "evalue": "name 'supuri' is not defined",
     "output_type": "error",
     "traceback": [
      "\u001b[1;31m---------------------------------------------------------------------------\u001b[0m",
      "\u001b[1;31mNameError\u001b[0m                                 Traceback (most recent call last)",
      "\u001b[1;32m~\\AppData\\Local\\Temp\\ipykernel_2268\\1318999382.py\u001b[0m in \u001b[0;36m<module>\u001b[1;34m\u001b[0m\n\u001b[0;32m      1\u001b[0m \u001b[0msupuri\u001b[0m \u001b[1;33m=\u001b[0m \u001b[1;33m[\u001b[0m\u001b[1;34m\"sucharita\"\u001b[0m\u001b[1;33m,\u001b[0m \u001b[1;34m\"puspita\"\u001b[0m\u001b[1;33m,\u001b[0m \u001b[1;34m\"rijwana\"\u001b[0m\u001b[1;33m,\u001b[0m \u001b[1;34m\"subhadip\"\u001b[0m\u001b[1;33m]\u001b[0m\u001b[1;33m\u001b[0m\u001b[1;33m\u001b[0m\u001b[0m\n\u001b[0;32m      2\u001b[0m \u001b[1;32mdel\u001b[0m \u001b[0msupuri\u001b[0m\u001b[1;33m\u001b[0m\u001b[1;33m\u001b[0m\u001b[0m\n\u001b[1;32m----> 3\u001b[1;33m \u001b[0mprint\u001b[0m\u001b[1;33m(\u001b[0m\u001b[0msupuri\u001b[0m\u001b[1;33m)\u001b[0m\u001b[1;33m\u001b[0m\u001b[1;33m\u001b[0m\u001b[0m\n\u001b[0m",
      "\u001b[1;31mNameError\u001b[0m: name 'supuri' is not defined"
     ]
    }
   ],
   "source": [
    "supuri = [\"sucharita\", \"puspita\", \"rijwana\", \"subhadip\"]\n",
    "del supuri       # delete the entire list\n",
    "print(supuri)"
   ]
  },
  {
   "cell_type": "code",
   "execution_count": 15,
   "id": "398daf31",
   "metadata": {},
   "outputs": [
    {
     "name": "stdout",
     "output_type": "stream",
     "text": [
      "[]\n"
     ]
    }
   ],
   "source": [
    "supuri = [\"sucharita\", \"puspita\", \"rijwana\", \"subhadip\"]\n",
    "supuri.clear()     # clear the list content\n",
    "print(supuri)"
   ]
  },
  {
   "cell_type": "code",
   "execution_count": 16,
   "id": "361be2e7",
   "metadata": {},
   "outputs": [
    {
     "name": "stdout",
     "output_type": "stream",
     "text": [
      "['sucharita', 'puspita', 'rijwana', 'subhadip', 'debarghya', 'farhad', 'imran']\n"
     ]
    }
   ],
   "source": [
    "# 4.1.Write a program to add all the elements in this list.\n",
    "supuri = [\"sucharita\", \"puspita\", \"rijwana\",]\n",
    "extra_people = [\"subhadip\", \"debarghya\", \"farhad\", \"imran\"]\n",
    "supuri.extend(extra_people)\n",
    "print(supuri)"
   ]
  },
  {
   "cell_type": "code",
   "execution_count": 18,
   "id": "8bd08d9d",
   "metadata": {},
   "outputs": [
    {
     "name": "stdout",
     "output_type": "stream",
     "text": [
      "['sucharita', 'puspita', 'rijwana']\n"
     ]
    }
   ],
   "source": [
    "# 5.Copy a list in to another list.\n",
    "supuri = [\"sucharita\", \"puspita\", \"rijwana\",]\n",
    "friends = supuri.copy()\n",
    "print(friends)"
   ]
  },
  {
   "cell_type": "code",
   "execution_count": 25,
   "id": "576db56c",
   "metadata": {},
   "outputs": [
    {
     "name": "stdout",
     "output_type": "stream",
     "text": [
      "40\n",
      "2\n"
     ]
    }
   ],
   "source": [
    "# 6.Find the maximum and minimum number in a list.\n",
    "number = [40, 35, 34, 26, 6, 17, 2, 30]\n",
    "print(max(number))    # maximum number\n",
    "print(min(number))    # minimum number"
   ]
  },
  {
   "cell_type": "code",
   "execution_count": 39,
   "id": "ab5c21e7",
   "metadata": {},
   "outputs": [
    {
     "name": "stdout",
     "output_type": "stream",
     "text": [
      "[3, 4, 5, 6, 7, 3, 4, 5, 6, 7, 3, 4, 5, 6, 7]\n"
     ]
    }
   ],
   "source": [
    "# 7.Write a program to multiply two lists and save them into another list.\n",
    "list = [3, 4, 5, 6, 7]\n",
    "lis = list * 3\n",
    "print(lis)"
   ]
  },
  {
   "cell_type": "code",
   "execution_count": 34,
   "id": "630a3e57",
   "metadata": {},
   "outputs": [
    {
     "name": "stdout",
     "output_type": "stream",
     "text": [
      "('sucharita', 'puspita', 'rijwana')\n"
     ]
    }
   ],
   "source": [
    "# 8.Create a tuple and fetch all the from the tuple and print these values.\n",
    "supuri = (\"sucharita\", \"puspita\", \"rijwana\",)\n",
    "print(supuri)"
   ]
  },
  {
   "cell_type": "code",
   "execution_count": 36,
   "id": "e2d661a6",
   "metadata": {},
   "outputs": [
    {
     "name": "stdout",
     "output_type": "stream",
     "text": [
      "5\n"
     ]
    }
   ],
   "source": [
    "# 9.Write a python program to print the length of a tuple.\n",
    "supuri = (\"sucharita\", \"puspita\", \"rijwana\", \"subhadip\", \"debarghya\")\n",
    "print(len(supuri))"
   ]
  },
  {
   "cell_type": "code",
   "execution_count": 40,
   "id": "b9f61588",
   "metadata": {},
   "outputs": [
    {
     "name": "stdout",
     "output_type": "stream",
     "text": [
      "('p', 's', 'r', 'f', 'd', 3, 5, 6, 9)\n"
     ]
    }
   ],
   "source": [
    "# 10.Write a python program to add two different tuples.\n",
    "tuple1 = (\"p\", \"s\", \"r\", \"f\",\"d\")\n",
    "tuple2 = (3, 5, 6, 9)\n",
    "tuple3 = tuple1 + tuple2\n",
    "print(tuple3)"
   ]
  },
  {
   "cell_type": "code",
   "execution_count": 42,
   "id": "bb17eb29",
   "metadata": {},
   "outputs": [
    {
     "name": "stdout",
     "output_type": "stream",
     "text": [
      "{'name': 'puspita', 'age': 21, 'address': 'kolkata', 'job': 'NA', 'salary': 0}\n"
     ]
    }
   ],
   "source": [
    "# 11.Create a dictionary and fetch all from the dictionary and print these values.\n",
    "dic = {\"name\": \"puspita\", \"age\": 21, \"address\": \"kolkata\", \"job\": \"NA\", \"salary\": 00000}\n",
    "print(dic)"
   ]
  },
  {
   "cell_type": "code",
   "execution_count": 43,
   "id": "8166c094",
   "metadata": {},
   "outputs": [
    {
     "name": "stdout",
     "output_type": "stream",
     "text": [
      "name ------ puspita\n",
      "age ------ 21\n",
      "address ------ kolkata\n",
      "job ------ NA\n",
      "salary ------ 0\n"
     ]
    }
   ],
   "source": [
    "# 12.Get all the keys and values from a dictionary.\n",
    "for key, val in dic.items():\n",
    "    print(key,\"------\", val)"
   ]
  },
  {
   "cell_type": "code",
   "execution_count": 45,
   "id": "da3e08fe",
   "metadata": {},
   "outputs": [
    {
     "name": "stdout",
     "output_type": "stream",
     "text": [
      "{'name': 'puspita', 'age': 21, 'address': 'kolkata', 'job': 'NA', 'salary': 0, 'university': 'MAKAUT'}\n"
     ]
    }
   ],
   "source": [
    "# 13.Add a new Item in a dictionary.\n",
    "dic = {\"name\": \"puspita\", \"age\": 21, \"address\": \"kolkata\", \"job\": \"NA\", \"salary\": 00000}\n",
    "dic[\"university\"] = \"MAKAUT\"\n",
    "print(dic)"
   ]
  },
  {
   "cell_type": "code",
   "execution_count": 46,
   "id": "a955525d",
   "metadata": {},
   "outputs": [
    {
     "name": "stdout",
     "output_type": "stream",
     "text": [
      "{'dic1': {'name': 'puspita', 'year': 2001}, 'dic2': {'name': 'moumita', 'year': 1999}}\n"
     ]
    }
   ],
   "source": [
    "# 14.Merging two different dictionary.\n",
    "dic1 = {\"name\" : \"puspita\", \"year\" : 2001}\n",
    "dic2 = {\"name\" : \"moumita\", \"year\" : 1999}\n",
    "two_sister = {\"dic1\": dic1, \"dic2\": dic2}\n",
    "print(two_sister)"
   ]
  },
  {
   "cell_type": "code",
   "execution_count": null,
   "id": "25eebfc3",
   "metadata": {},
   "outputs": [],
   "source": []
  }
 ],
 "metadata": {
  "kernelspec": {
   "display_name": "Python 3 (ipykernel)",
   "language": "python",
   "name": "python3"
  },
  "language_info": {
   "codemirror_mode": {
    "name": "ipython",
    "version": 3
   },
   "file_extension": ".py",
   "mimetype": "text/x-python",
   "name": "python",
   "nbconvert_exporter": "python",
   "pygments_lexer": "ipython3",
   "version": "3.9.13"
  }
 },
 "nbformat": 4,
 "nbformat_minor": 5
}
