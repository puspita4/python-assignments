{
 "cells": [
  {
   "cell_type": "code",
   "execution_count": 3,
   "id": "94114436",
   "metadata": {},
   "outputs": [
    {
     "name": "stdout",
     "output_type": "stream",
     "text": [
      "Enter a number: 8\n",
      "x is not divisible by 7 \n"
     ]
    }
   ],
   "source": [
    "## Write a program to check a number is divisible by 7 or not\n",
    "x = int(input(\"Enter a number: \"))\n",
    "if x % 7 == 0:\n",
    "    print(\"x is divisible by 7 \")\n",
    "else:\n",
    "     print(\"x is not divisible by 7 \")"
   ]
  },
  {
   "cell_type": "code",
   "execution_count": 4,
   "id": "c7808e5d",
   "metadata": {},
   "outputs": [
    {
     "name": "stdout",
     "output_type": "stream",
     "text": [
      "Enter a number: 10\n",
      "print Hello\n"
     ]
    }
   ],
   "source": [
    "## Write a program to display “Hello” if a number entered by the user is multiple of 5 otherwise print “Bye”.\n",
    "x = int(input(\"Enter a number: \"))\n",
    "if x % 5 == 0:\n",
    "    print(\"print Hello\")\n",
    "else:\n",
    "    print(\"print Bye\")"
   ]
  },
  {
   "cell_type": "code",
   "execution_count": 21,
   "id": "8da67e23",
   "metadata": {},
   "outputs": [
    {
     "name": "stdout",
     "output_type": "stream",
     "text": [
      "Please Enter any Number: 23\n",
      "The Last Digit in a Given Number 23 = 3\n"
     ]
    }
   ],
   "source": [
    "## Write a program to print last digits of a number.\n",
    "x = int(input(\"Please Enter any Number: \"))\n",
    "last_digit = x % 10\n",
    "print(\"The Last Digit in a Given Number %d = %d\" %(x, last_digit))"
   ]
  },
  {
   "cell_type": "code",
   "execution_count": 6,
   "id": "a8b2f43c",
   "metadata": {},
   "outputs": [
    {
     "name": "stdout",
     "output_type": "stream",
     "text": [
      "Input a number: 45\n",
      "It is Zero\n"
     ]
    }
   ],
   "source": [
    "## Write a python program to check a number(accept from user) positive or negative.\n",
    "x = float(input(\"Input a number: \")) \n",
    "if x >= 0: \n",
    "     print(\"It is Zero\")\n",
    "elif x == 0: \n",
    "    print(\"Number is Positive number\")\n",
    "else: \n",
    "    print(\"Number is Negative number. \")"
   ]
  },
  {
   "cell_type": "code",
   "execution_count": 8,
   "id": "fe3c66f4",
   "metadata": {},
   "outputs": [
    {
     "name": "stdout",
     "output_type": "stream",
     "text": [
      "Enter a number: 34\n",
      "x is not divisible by 2 and 3 \n"
     ]
    }
   ],
   "source": [
    "## Write a python program to check a number(accept from user) divisible by 2 and 3.\n",
    "x = int(input(\"Enter a number: \"))\n",
    "if x % 2 == 0 and x % 3 == 0:\n",
    "    print(\"x is divisible by 2 and 3 \")\n",
    "else:\n",
    "     print(\"x is not divisible by 2 and 3 \")"
   ]
  },
  {
   "cell_type": "code",
   "execution_count": 9,
   "id": "42bdc5ed",
   "metadata": {},
   "outputs": [
    {
     "name": "stdout",
     "output_type": "stream",
     "text": [
      "1\n",
      "2\n",
      "3\n",
      "4\n",
      "5\n",
      "6\n",
      "7\n",
      "8\n",
      "9\n",
      "10\n"
     ]
    }
   ],
   "source": [
    "## Print First 10 natural numbers using while loop.\n",
    "i = 1\n",
    "while i < 11:\n",
    "    print(i)\n",
    "    i += 1"
   ]
  },
  {
   "cell_type": "code",
   "execution_count": 22,
   "id": "ab7d1cdb",
   "metadata": {},
   "outputs": [
    {
     "name": "stdout",
     "output_type": "stream",
     "text": [
      "Enter a number: 23\n",
      "23 x 1 = 23\n",
      "23 x 2 = 46\n",
      "23 x 3 = 69\n",
      "23 x 4 = 92\n",
      "23 x 5 = 115\n",
      "23 x 6 = 138\n",
      "23 x 7 = 161\n",
      "23 x 8 = 184\n",
      "23 x 9 = 207\n",
      "23 x 10 = 230\n"
     ]
    }
   ],
   "source": [
    "## Write a program to print multiplication table of a given number.\n",
    "x = int(input(\"Enter a number: \"))                            # multiplication table of a given number\n",
    "for i in range(1, 11):                  # using loop for conditional statement\n",
    "    print(x, 'x', i, '=', x*i)\n"
   ]
  },
  {
   "cell_type": "code",
   "execution_count": 12,
   "id": "411e2ca4",
   "metadata": {},
   "outputs": [
    {
     "name": "stdout",
     "output_type": "stream",
     "text": [
      "-10\n",
      "-9\n",
      "-8\n",
      "-7\n",
      "-6\n",
      "-5\n",
      "-4\n",
      "-3\n",
      "-2\n",
      "-1\n"
     ]
    }
   ],
   "source": [
    "## Display numbers from -10 to -1 using for loop\n",
    "numbers = [-10, -9, -8, -7, -6, -5, -4, -3, -2, -1]\n",
    "for i in numbers:\n",
    "    print(i)"
   ]
  },
  {
   "cell_type": "code",
   "execution_count": 16,
   "id": "86b72919",
   "metadata": {},
   "outputs": [
    {
     "name": "stdout",
     "output_type": "stream",
     "text": [
      "nohtyp\n"
     ]
    }
   ],
   "source": [
    "## Reverse a given integer number.\n",
    "x = \"python\"[::-1]\n",
    "print(x)\n"
   ]
  },
  {
   "cell_type": "code",
   "execution_count": 17,
   "id": "e0aba324",
   "metadata": {},
   "outputs": [
    {
     "name": "stdout",
     "output_type": "stream",
     "text": [
      "10\n",
      "9\n",
      "8\n",
      "7\n",
      "6\n",
      "5\n",
      "4\n",
      "3\n",
      "2\n",
      "1\n"
     ]
    }
   ],
   "source": [
    "## Print list in reverse order using a loop.\n",
    "i = 10\n",
    "while(i >= 1):\n",
    "    print(i)\n",
    "    i = i - 1"
   ]
  },
  {
   "cell_type": "code",
   "execution_count": null,
   "id": "e670d82f",
   "metadata": {},
   "outputs": [],
   "source": []
  }
 ],
 "metadata": {
  "kernelspec": {
   "display_name": "Python 3 (ipykernel)",
   "language": "python",
   "name": "python3"
  },
  "language_info": {
   "codemirror_mode": {
    "name": "ipython",
    "version": 3
   },
   "file_extension": ".py",
   "mimetype": "text/x-python",
   "name": "python",
   "nbconvert_exporter": "python",
   "pygments_lexer": "ipython3",
   "version": "3.9.13"
  }
 },
 "nbformat": 4,
 "nbformat_minor": 5
}
