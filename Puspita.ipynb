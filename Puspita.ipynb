{
 "cells": [
  {
   "cell_type": "code",
   "execution_count": 83,
   "id": "784b0a2e",
   "metadata": {},
   "outputs": [
    {
     "name": "stdout",
     "output_type": "stream",
     "text": [
      "[1, 8, 27, 64, 125]\n"
     ]
    }
   ],
   "source": [
    "## Calculate the cube of all numbers from 1 to a given number\n",
    "x = [1, 2, 3, 4, 5]\n",
    "res = []\n",
    "for i in x:\n",
    "    res.append(i*i*i)\n",
    "print(res)"
   ]
  },
  {
   "cell_type": "code",
   "execution_count": 9,
   "id": "a7737bda",
   "metadata": {},
   "outputs": [
    {
     "name": "stdout",
     "output_type": "stream",
     "text": [
      "Enter a number: 3\n",
      "Current Number is : 1  and the cube is 1\n",
      "Current Number is : 2  and the cube is 8\n",
      "Current Number is : 3  and the cube is 27\n"
     ]
    }
   ],
   "source": [
    "## Calculate the cube of all numbers from 1 to a given number\n",
    "x = int(input(\"Enter a number: \"))\n",
    "for i in range(1, x + 1):\n",
    "    print(\"Current Number is :\", i, \" and the cube is\", (i * i * i))"
   ]
  },
  {
   "cell_type": "code",
   "execution_count": 10,
   "id": "0f965526",
   "metadata": {},
   "outputs": [
    {
     "name": "stdout",
     "output_type": "stream",
     "text": [
      "0\n",
      "1\n",
      "2\n",
      "3\n",
      "4\n",
      "Done!\n"
     ]
    }
   ],
   "source": [
    "## Use else block to display a message “Done” after successful execution of for loop.\n",
    "for i in range(5):\n",
    "    print(i)\n",
    "else:\n",
    "    print(\"Done!\")"
   ]
  },
  {
   "cell_type": "code",
   "execution_count": 14,
   "id": "d8af4c7c",
   "metadata": {},
   "outputs": [
    {
     "name": "stdout",
     "output_type": "stream",
     "text": [
      "Puspita\n",
      "Sucharita\n",
      "Rijwana\n"
     ]
    }
   ],
   "source": [
    "pus = [\"Puspita\", \"Sucharita\", \"Rijwana\"]\n",
    "for x in pus:\n",
    "    print(x)\n",
    "    if x == \"Done\":\n",
    "        break"
   ]
  },
  {
   "cell_type": "code",
   "execution_count": 53,
   "id": "ebe090d3",
   "metadata": {},
   "outputs": [
    {
     "name": "stdout",
     "output_type": "stream",
     "text": [
      "Enter number of x: 5\n",
      "1 \n",
      "1 2 \n",
      "1 2 3 \n",
      "1 2 3 4 \n",
      "1 2 3 4 5 \n"
     ]
    }
   ],
   "source": [
    "## Print the following pattern\n",
    "#1 \n",
    "#1 2 \n",
    "#1 2 3 \n",
    "#1 2 3 4 \n",
    "#1 2 3 4 5\n",
    "x = int(input(\"Enter number of x: \"))\n",
    "for i in range(x):\n",
    "    for j in range(i+1):\n",
    "        print(j+1, end=\" \")\n",
    "    print(\"\")"
   ]
  },
  {
   "cell_type": "code",
   "execution_count": 24,
   "id": "d04f648b",
   "metadata": {},
   "outputs": [
    {
     "name": "stdout",
     "output_type": "stream",
     "text": [
      "[2, 4, 5, 10, 20]\n"
     ]
    }
   ],
   "source": [
    "## Write a Python program to remove duplicates from a list.\n",
    "list1 = [2, 4, 10, 20, 5, 2, 20, 4]\n",
    "print(list(set(list1)))"
   ]
  },
  {
   "cell_type": "code",
   "execution_count": 31,
   "id": "68edc6c5",
   "metadata": {},
   "outputs": [
    {
     "name": "stdout",
     "output_type": "stream",
     "text": [
      "list is not empty\n"
     ]
    }
   ],
   "source": [
    "## Write a Python program to check if a list is empty or not.\n",
    "list1 = [1, 2, 3, 4, 5]\n",
    "list2 = []\n",
    "if list2:\n",
    "    print(\"list is empty\")\n",
    "else:\n",
    "    print(\"list is not empty\")"
   ]
  },
  {
   "cell_type": "code",
   "execution_count": 33,
   "id": "87f3207e",
   "metadata": {},
   "outputs": [
    {
     "name": "stdout",
     "output_type": "stream",
     "text": [
      "Enter number of x: 5\n",
      "* \n",
      "\n",
      "* * \n",
      "\n",
      "* * * \n",
      "\n",
      "* * * * \n",
      "\n",
      "* * * * * \n",
      "\n"
     ]
    }
   ],
   "source": [
    "## Print the following pattern\n",
    "#* \n",
    "#* * \n",
    "#* * * \n",
    "#* * * * \n",
    "#* * * * *\n",
    "x = int(input(\"Enter number of x: \"))\n",
    "for i in range(x):\n",
    "    for j in range(i+1):\n",
    "        print(\"*\", end=\" \")\n",
    "    print(\"\\n\")"
   ]
  },
  {
   "cell_type": "code",
   "execution_count": 37,
   "id": "5e33bcda",
   "metadata": {},
   "outputs": [
    {
     "name": "stdout",
     "output_type": "stream",
     "text": [
      "[9, 3, 5, 8, 2, 4, 6]\n"
     ]
    }
   ],
   "source": [
    "## Write a Python program to calculate the difference between the two lists.\n",
    "x = [1, 3, 5, 7, 9]\n",
    "y = [1, 2, 4, 6, 7, 8]\n",
    "diff_x_y = list(set(x) - set(y))\n",
    "diff_y_x = list(set(y) - set(x))\n",
    "total_diff = diff_x_y + diff_y_x\n",
    "print(total_diff)"
   ]
  },
  {
   "cell_type": "code",
   "execution_count": null,
   "id": "6824d80c",
   "metadata": {},
   "outputs": [],
   "source": [
    "## Write a Python program to find the second smallest and second largest  number in a list.\n"
   ]
  },
  {
   "cell_type": "code",
   "execution_count": 39,
   "id": "9f1bce42",
   "metadata": {},
   "outputs": [
    {
     "name": "stdout",
     "output_type": "stream",
     "text": [
      "Yes,'Puspita' is in the makaut list\n"
     ]
    }
   ],
   "source": [
    "## Write a Python program to check whether a list contains a sublist.\n",
    "MAKAUT = [\"Puspita\", \"Sucharita\", \"Rijwana\"]\n",
    "if \"Puspita\" in MAKAUT:\n",
    "  print(\"Yes,'Puspita' is in the makaut list\")\n"
   ]
  },
  {
   "cell_type": "code",
   "execution_count": 87,
   "id": "9f28b826",
   "metadata": {},
   "outputs": [
    {
     "name": "stdout",
     "output_type": "stream",
     "text": [
      "A \n",
      "B \n",
      "B \n",
      "C \n",
      "C \n",
      "C \n",
      "D \n",
      "D \n",
      "D \n",
      "D \n",
      "E \n",
      "E \n",
      "E \n",
      "E \n",
      "E \n"
     ]
    }
   ],
   "source": [
    "## Print the following program\n",
    "#A\n",
    "#B B\n",
    "#C C C\n",
    "#D D D D\n",
    "#E E E E E\n",
    "rows=70\n",
    "for i in range(65,rows):\n",
    "    for j in range(65,i+1):\n",
    "        print(chr(i) ,end= \" \")\n",
    "        print(\"\")"
   ]
  },
  {
   "cell_type": "code",
   "execution_count": null,
   "id": "1876742d",
   "metadata": {},
   "outputs": [],
   "source": []
  }
 ],
 "metadata": {
  "kernelspec": {
   "display_name": "Python 3 (ipykernel)",
   "language": "python",
   "name": "python3"
  },
  "language_info": {
   "codemirror_mode": {
    "name": "ipython",
    "version": 3
   },
   "file_extension": ".py",
   "mimetype": "text/x-python",
   "name": "python",
   "nbconvert_exporter": "python",
   "pygments_lexer": "ipython3",
   "version": "3.9.13"
  }
 },
 "nbformat": 4,
 "nbformat_minor": 5
}
